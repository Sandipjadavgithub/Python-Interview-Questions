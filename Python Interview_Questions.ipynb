{
 "cells": [
  {
   "cell_type": "markdown",
   "id": "babaa66e",
   "metadata": {},
   "source": [
    "# 1. What is Python? What are the benefits of using Python.\n",
    "\n",
    "Ans:\n",
    "\n",
    "    Python is a high-level, interpreted, general-purpose programming language.\n",
    "    \n",
    "    Being a general-purpose language, it can be used to build almost any type of application with the right tools/libraries\n",
    "        \n",
    "    using python we have create web development,game development,desktop web application etc\n",
    "    \n",
    "## Advantages of Python Programming Language:\n",
    "    1.Easy to read, learn code\n",
    "    \n",
    "    Ans: Python is a high-level language and its syntax is very simple\n",
    "\n",
    "    2.Dynamic Typing\n",
    "    \n",
    "    Ans: there is no need for the declaration of variables. The data type of the variable gets assigned automatically during              runtime\n",
    "\n",
    "    3.Free, Open Source\n",
    "    \n",
    "    Ans: It is free and also has an open-source licence. This means the source code is available to the public for free and one           can do modifications to the original code\n",
    "\n",
    "    4.Portable\n",
    "    \n",
    "    Ans: Python is also platform-independent. That is, if you write the code on one of the Windows, Mac, or Linux operating              systems, then you can run the same code on the other OS with no need for any changes."
   ]
  },
  {
   "cell_type": "markdown",
   "id": "45a4a739",
   "metadata": {},
   "source": [
    "# 2. What is a dynamically typed language?\n",
    "\n",
    "Ans: \n",
    "\n",
    "     Before we understand a dynamically typed language, we should learn about what typing is. Typing refers to type-checking in      programming languages. \n",
    "\n",
    "Static:\n",
    "\n",
    "    Data Types are checked before execution.\n",
    "Dynamic:\n",
    "\n",
    "    Data Types are checked during execution."
   ]
  },
  {
   "cell_type": "markdown",
   "id": "4e99ba14",
   "metadata": {},
   "source": [
    "# 3. What is an Interpreted language?\n",
    "\n",
    "Ans: \n",
    "\n",
    "     python is  Interpreted programming language and its programs executes statements line by line.\n",
    "\n",
    "     Languages such as Python, Javascript, R, PHP, and Ruby are prime examples of Interpreted languages.\n",
    "     \n",
    "     Programs written in an interpreted language runs directly from the source code, with no intermediary compilation step."
   ]
  },
  {
   "cell_type": "markdown",
   "id": "d3f83dff",
   "metadata": {},
   "source": [
    "# 4. What is PEP 8 and why is it important?\n",
    "\n",
    "Ans:\n",
    "     \n",
    "     PEP stands for Python Enhancement Proposal. \n",
    "     \n",
    "     A PEP is an official design document providing information to the Python community, describing a new feature for Python          processes. "
   ]
  },
  {
   "cell_type": "markdown",
   "id": "ad911695",
   "metadata": {},
   "source": [
    "# 5. What is Scope in Python?\n",
    "\n",
    "Ans:\n",
    "\n",
    "     scope refers to the visibility and accessibility of variables within different parts of a program. \n",
    "     \n",
    "     Scope determines where a  variable is accessible and where variable is not accessible.\n",
    "\n",
    "Local scope:\n",
    "\n",
    "    Variables declared within a function have local scope.\n",
    "\n",
    "    They are accessible only within the function\n",
    "\n",
    "Global Scope:\n",
    "\n",
    "    Variables declared outside of any function.\n",
    "\n",
    "    Global variables can be accessed from any function within the program\n"
   ]
  },
  {
   "cell_type": "markdown",
   "id": "03b2e585",
   "metadata": {},
   "source": [
    "# 6. What are lists and tuples? What is the key difference between the two?\n",
    "\n",
    "\n",
    "Ans:\n",
    "     \n",
    "     Lists and Tuples are both sequence data types.\n",
    "     \n",
    "     both can store a collection of objects in Python.\n",
    "     \n",
    "     the objects stored in both sequences can have different data types. \n",
    "     \n",
    "     lists are represented with square brackets[]\n",
    "     \n",
    "     tuples are represented with parantheses ()\n",
    "     \n",
    "     \n",
    "     The key difference between the two is that while lists are mutable, tuples  are immutable objects.\n",
    "     \n",
    "     that means list can be modified and tuple remain constant we can not  modify"
   ]
  },
  {
   "cell_type": "markdown",
   "id": "8ae176f6",
   "metadata": {},
   "source": [
    "# 7. What are the common built-in data types in Python?\n",
    "\n",
    "Ans:\n",
    "### Numeric Types:\n",
    "   \n",
    "     int\t  :Stores integer literals including hex, octal and binary numbers as integers\n",
    "     float :Stores literals containing decimal values and/or exponent signs as floating-point numbers\n",
    "     complex: Stores complex numbers in the form (A + Bj) and has attributes: real and imag\n",
    "     bool: Stores boolean value (True or False).\n",
    "    \n",
    "### Sequence Types:\n",
    "\n",
    "    list: \tMutable sequence used to store collection of items.\n",
    "    tuple: \tImmutable sequence used to store collection of items.\n",
    "    range: \tRepresents an immutable sequence of numbers generated during execution.\n",
    "    str: \tImmutable sequence of Unicode code points to store textual data.\n",
    "### Mapping Types:\n",
    "\n",
    "    dict:\tStores comma-separated list of key: value pairs\n",
    "    \n",
    "### Set Types:\n",
    "\n",
    "    set: \tMutable unordered collection of distinct hashable objects.\n",
    "    frozenset:\tImmutable collection of distinct hashable objects."
   ]
  },
  {
   "cell_type": "markdown",
   "id": "3149427e",
   "metadata": {},
   "source": [
    "# 8. What is pass in Python?\n",
    "\n",
    "Ans: \n",
    "\n",
    "    The pass keyword represents a null operation in Python.\n",
    "    \n",
    "    the pass keyword used as a placeholder for future code.\n",
    "    \n",
    "    it is generally used for the purpose of filling up empty blocks of code which may execute during runtime ."
   ]
  },
  {
   "cell_type": "markdown",
   "id": "3fed81f4",
   "metadata": {},
   "source": [
    "# 9. What are modules and packages in Python?\n",
    "\n",
    "Ans:  \n",
    "    Module:\n",
    "\n",
    "    A Python module is a file containing Python definitions and statements. \n",
    "    It can define functions, classes, and variables, and can also include runnable code.\n",
    "    we have save the module.py and than import the module file\n",
    "    \n",
    "    \n",
    "   Package:\n",
    "   \n",
    "       package is a directory that contains multiple Python modules.\n",
    "       A module is a single Python file that may contain several classes, functions, variables, etc.\n",
    "       whereas a package contains several modules1"
   ]
  },
  {
   "cell_type": "markdown",
   "id": "d8531b0e",
   "metadata": {},
   "source": [
    "# 10. What are global, protected and private attributes in Python?\n",
    "\n",
    "Global Scope:\n",
    "\n",
    "     variables declared outside of any function.\n",
    "\n",
    "     Global variables can be accessed from any function within the program.\n",
    "     \n",
    "     we have use global variable define global keyword.\n",
    " Protected:\n",
    " \n",
    "     The members of a class that are declared  variable protected are only accessible to a class derived from it.\n",
    "     \n",
    "     Data members of a class are declared protected by adding a single underscore ‘_’ symbol before the data member of the class\n",
    " Privated:\n",
    " \n",
    "     The members of a class that are declared private are accessible within the class only.\n",
    "     private access modifier is the most secure access modifier.\n",
    "     Data members of a class are declared private by adding a double underscore ‘__’symbol before the data member of that class. \n",
    "     \n",
    "     \n",
    "     "
   ]
  },
  {
   "cell_type": "markdown",
   "id": "c672c919",
   "metadata": {},
   "source": [
    "# 11. What is the use of self in Python?\n",
    "\n",
    "Ans: \n",
    "\n",
    "    Self is used to represent the instance of the class. \n",
    "    \n",
    "    using self  keyword, you can access the attributes and methods of the class in python. \n",
    "    \n",
    "    it is belong to class.\n",
    "\n",
    "    if we are not using the self in our method cannot  belong to method inside the class."
   ]
  },
  {
   "cell_type": "markdown",
   "id": "398421ff",
   "metadata": {},
   "source": [
    "# 12. What is __init__?\n",
    "\n",
    "Ans:\n",
    "\n",
    "     it is special type of method which calls automatically and allocated memory  when new object of the class is created\n",
    "\n",
    "     using the_init_(): this is constructor in python. \n",
    "     \n",
    "     it is used to initialize the object."
   ]
  },
  {
   "cell_type": "code",
   "execution_count": 4,
   "id": "0f50bef1",
   "metadata": {},
   "outputs": [
    {
     "name": "stdout",
     "output_type": "stream",
     "text": [
      "the first name: sandip\n",
      "the last name: jadav\n"
     ]
    }
   ],
   "source": [
    "# example:\n",
    "\n",
    "class student:\n",
    "    def __init__(self,fname,lname):\n",
    "        self.fname=fname\n",
    "        self.lname=lname\n",
    "    def show(self):\n",
    "        print(\"the first name:\",self.fname)\n",
    "        print(\"the last name:\",self.lname)\n",
    "        \n",
    "obj=student(\"sandip\",\"jadav\")\n",
    "obj.show()\n"
   ]
  },
  {
   "cell_type": "markdown",
   "id": "3bbc3e28",
   "metadata": {},
   "source": [
    "# 13. What is break, continue and pass in Python?\n",
    "\n",
    "\n",
    "Ans:\n",
    "\n",
    "   break:\n",
    "   \n",
    "       It terminates the loop immediately and transfers execution to the new statement after the loop.\n",
    "       it is used both for loop and while loop\n",
    "       \n",
    "   continue:\n",
    "   \n",
    "       continue statement is  skip its current execution at some point and move on to the next iteration. "
   ]
  },
  {
   "cell_type": "code",
   "execution_count": 7,
   "id": "d50612db",
   "metadata": {},
   "outputs": [
    {
     "name": "stdout",
     "output_type": "stream",
     "text": [
      "1\n",
      "2\n",
      "3\n",
      "4\n"
     ]
    }
   ],
   "source": [
    "# break:\n",
    "\n",
    "count=1\n",
    "\n",
    "while count<=10:\n",
    "    print(count)\n",
    "    count+=1\n",
    "    if count==5:\n",
    "        \n",
    "        break"
   ]
  },
  {
   "cell_type": "code",
   "execution_count": 12,
   "id": "ca6c7d0f",
   "metadata": {},
   "outputs": [
    {
     "name": "stdout",
     "output_type": "stream",
     "text": [
      "2\n",
      "3\n",
      "4\n",
      "5\n",
      "6\n"
     ]
    }
   ],
   "source": [
    "for i in range(1,10):\n",
    "    if i==6:\n",
    "        break\n",
    "    i=i+1\n",
    "    print(i)"
   ]
  },
  {
   "cell_type": "code",
   "execution_count": 14,
   "id": "2277eb21",
   "metadata": {},
   "outputs": [
    {
     "name": "stdout",
     "output_type": "stream",
     "text": [
      "10\n",
      "11\n",
      "12\n",
      "13\n",
      "14\n",
      "16\n",
      "17\n",
      "18\n",
      "19\n"
     ]
    }
   ],
   "source": [
    "#continue\n",
    "\n",
    "for i in range(10,20):\n",
    "    if i==15:\n",
    "        continue\n",
    "    \n",
    "    print(i)"
   ]
  },
  {
   "cell_type": "markdown",
   "id": "f7908ae4",
   "metadata": {},
   "source": [
    "# 14. What are unit tests in Python?\n",
    "\n",
    "Ans:\n",
    " \n",
    "    White Box Testing method is used for Unit testing.\n",
    "    \n",
    "    Unit test is a unit testing framework of Python.\n",
    "    \n",
    "    the first level of software testing where the smallest testable parts of a software are tested"
   ]
  },
  {
   "cell_type": "markdown",
   "id": "64ec88e7",
   "metadata": {},
   "source": [
    "# 15. What is docstring in Python?\n",
    "\n",
    "\n",
    "Ans:\n",
    "\n",
    "    docstring is nothing but documentation string and it is used for the document code segment.\n",
    "    \n",
    "    docstring is describe the what function and method does.\n",
    "    \n",
    "    The docstrings are declared using ”’triple single quotes”’ or “”” triple double quotes “”” just below the class, method, or     function declaration. "
   ]
  },
  {
   "cell_type": "markdown",
   "id": "49ac5768",
   "metadata": {},
   "source": [
    "# 16. What is slicing in Python?\n",
    "\n",
    "Ans:\n",
    "\n",
    "     Syntax for slicing is [start : stop : step]\n",
    "     \n",
    "     start is the starting index from where to slice a list or tuple\n",
    "     \n",
    "     stop is the ending index or where to sop.\n",
    "     \n",
    "     step is the number of steps to jump.\n",
    "     \n",
    "     Default value for start is 0, stop is number of items, step is 1.\n",
    "     \n",
    "     Slicing can be done on strings, arrays, lists, and tuples."
   ]
  },
  {
   "cell_type": "code",
   "execution_count": 19,
   "id": "d9540d58",
   "metadata": {},
   "outputs": [
    {
     "name": "stdout",
     "output_type": "stream",
     "text": [
      "[1, 2, 3, 4, 5]\n"
     ]
    }
   ],
   "source": [
    "list=[1,2,3,4,5,6]\n",
    "print(list[0:5])"
   ]
  },
  {
   "cell_type": "markdown",
   "id": "81fa314f",
   "metadata": {},
   "source": [
    "# 17. What is the difference between Python Arrays and lists?\n",
    "\n",
    "\n",
    "Ans:  \n",
    "   \n",
    "    lists and arrays are both used to store multiple items.\n",
    "   \n",
    "    They both support indexing of elements to access values.\n",
    "   \n",
    "   \n",
    "   key Differnce:\n",
    "   \n",
    "     list are store diffrenet data types   and array are store same data type\n",
    "     \n",
    "     list in not import a module for the declaration and array in import a module for the declaration\n",
    "     \n",
    "     list is not handle directly arithmetic operations and array is handle directly arithmetic operations\n",
    "     \n",
    "     list is shorter sequence of data items and array is longer sequence of data items\n",
    "   \n",
    "   "
   ]
  },
  {
   "cell_type": "markdown",
   "id": "6dd618f8",
   "metadata": {},
   "source": [
    "# 18. How is memory managed in Python?\n",
    "\n",
    "Ans:\n",
    "\n",
    "    Memory management in Python is handled by the Python Memory Manager. \n",
    "    \n",
    "    The memory allocated by the manager is in form of a private heap space memory. \n",
    "    \n",
    "    All Python objects are stored in this heap and being private, it is in accessible to the programmer. \n",
    "    \n",
    "    python has an in-built garbage collection to recycle the unused memory for the private heap space"
   ]
  },
  {
   "cell_type": "markdown",
   "id": "91367057",
   "metadata": {},
   "source": [
    "# 19: What are Python namespaces? Why are they used?\n",
    "\n",
    "Ans: \n",
    "\n",
    "    A namespace is a system that has a unique name for each and every object in Python.\n",
    "    \n",
    "    An object might be a variable or a method. \n",
    "    \n",
    "    Python itself maintains a namespace in the form of a Python dictionary\n",
    "    \n",
    "    \n",
    "    \n",
    " use:\n",
    " \n",
    "    it is used for local space and global space"
   ]
  },
  {
   "cell_type": "markdown",
   "id": "c15db0fc",
   "metadata": {},
   "source": [
    "# 20: What is Scope Resolution in Python?\n",
    "\n",
    "Ans:\n",
    "\n",
    "     Python, scope resolution is the process of determining the value of a variable based on its location in the code"
   ]
  },
  {
   "cell_type": "markdown",
   "id": "5adab26e",
   "metadata": {},
   "source": [
    "# 21: What are decorators in Python?\n",
    "\n",
    "Ans:\n",
    "\n",
    "    Decorators are a very  useful tool in Python since it allows programmers to modify the behaviour of a function or class.\n",
    "    \n",
    "    a decorder is function that accept the function as a parameter and returns a function"
   ]
  },
  {
   "cell_type": "code",
   "execution_count": 2,
   "id": "7ed6fe70",
   "metadata": {},
   "outputs": [
    {
     "name": "stdout",
     "output_type": "stream",
     "text": [
      "add name of student\n",
      "sandip\n",
      "raj\n",
      "mahesh\n"
     ]
    }
   ],
   "source": [
    "#example:\n",
    "def decor(fun):\n",
    "    def inner():\n",
    "        print(\"add name of student\")\n",
    "        fun()\n",
    "        print(\"mahesh\")\n",
    "    return inner\n",
    "\n",
    "\n",
    "\n",
    "\n",
    "def student():\n",
    "    print(\"sandip\")\n",
    "    print(\"raj\")\n",
    "obj=decor(student)\n",
    "obj()\n",
    "\n"
   ]
  },
  {
   "cell_type": "markdown",
   "id": "b5473742",
   "metadata": {},
   "source": [
    "# 22: What are Dict and List comprehensions?\n",
    "\n",
    "Ans:\n",
    "  \n",
    "     They are used to reduce the length of the code, save memory, and make the code more effective."
   ]
  },
  {
   "cell_type": "code",
   "execution_count": 3,
   "id": "80174282",
   "metadata": {},
   "outputs": [
    {
     "name": "stdout",
     "output_type": "stream",
     "text": [
      "[1, 2, 3, 4, 5, 6, 7, 8, 9]\n"
     ]
    }
   ],
   "source": [
    "#list :\n",
    "\n",
    "i=[]\n",
    "\n",
    "for x in range(1,10):\n",
    "    i.append(x)\n",
    "print(i)"
   ]
  },
  {
   "cell_type": "code",
   "execution_count": 2,
   "id": "577bab72",
   "metadata": {},
   "outputs": [
    {
     "name": "stdout",
     "output_type": "stream",
     "text": [
      "[1, 2, 3, 4, 5, 6, 7, 8, 9]\n"
     ]
    }
   ],
   "source": [
    "# list comprenshive:\n",
    "i=[x  for x in range(1,10)]\n",
    "print(i)"
   ]
  },
  {
   "cell_type": "code",
   "execution_count": 5,
   "id": "f157fe57",
   "metadata": {},
   "outputs": [
    {
     "name": "stdout",
     "output_type": "stream",
     "text": [
      "[1, 2, 3, 4, 5, 6, 7, 8, 9, 10, 11, 12, 13, 14, 15, 16, 17, 18, 19, 20, 21, 22, 23, 24, 25, 26, 27, 28, 29, 30, 31, 32, 33, 34, 35, 36, 37, 38, 39, 40, 41, 42, 43, 44, 45, 46, 47, 48, 49, 50, 51, 52, 53, 54, 55, 56, 57, 58, 59, 60, 61, 62, 63, 64, 65, 66, 67, 68, 69, 70, 71, 72, 73, 74, 75, 76, 77, 78, 79, 80, 81, 82, 83, 84, 85, 86, 87, 88, 89, 90, 91, 92, 93, 94, 95, 96, 97, 98, 99]\n"
     ]
    }
   ],
   "source": [
    "x=[i for i in range(1,100)]\n",
    "print(x)"
   ]
  },
  {
   "cell_type": "code",
   "execution_count": 8,
   "id": "d0e9c8ff",
   "metadata": {},
   "outputs": [
    {
     "name": "stdout",
     "output_type": "stream",
     "text": [
      "{1: 1, 2: 4, 3: 9}\n"
     ]
    }
   ],
   "source": [
    "# dict:\n",
    "square = {1:1,2:4,3:9}\n",
    "print(square)\n"
   ]
  },
  {
   "cell_type": "code",
   "execution_count": 10,
   "id": "3cbd3322",
   "metadata": {},
   "outputs": [
    {
     "name": "stdout",
     "output_type": "stream",
     "text": [
      "{1: 1, 2: 4, 3: 9, 4: 16, 5: 25, 6: 36, 7: 49, 8: 64, 9: 81}\n"
     ]
    }
   ],
   "source": [
    "#dict comprensive:\n",
    "square = {n:n**2 for n in range(1,10)}\n",
    "print(square)\n"
   ]
  },
  {
   "cell_type": "markdown",
   "id": "0b52b187",
   "metadata": {},
   "source": [
    " # 23: What is lambda in Python? Why is it used?\n",
    " \n",
    " \n",
    " Ans:\n",
    " \n",
    "      lambda function is a small anonymous function that can take any number of arguments.\n",
    "      \n",
    "      but can only have one expression. "
   ]
  },
  {
   "cell_type": "code",
   "execution_count": 17,
   "id": "93b2995e",
   "metadata": {},
   "outputs": [
    {
     "name": "stdout",
     "output_type": "stream",
     "text": [
      "20\n"
     ]
    }
   ],
   "source": [
    "# example:\n",
    "\n",
    "x = lambda a:a + 10\n",
    "print(x(10))"
   ]
  },
  {
   "cell_type": "code",
   "execution_count": 1,
   "id": "feeed77f",
   "metadata": {},
   "outputs": [
    {
     "name": "stdout",
     "output_type": "stream",
     "text": [
      "20\n"
     ]
    }
   ],
   "source": [
    "y = lambda a:a +10\n",
    "print(y(10))"
   ]
  },
  {
   "cell_type": "markdown",
   "id": "76ee6ab9",
   "metadata": {},
   "source": [
    "# 24: How do you copy an object in Python?\n",
    "\n",
    "Ans:\n",
    "    \n",
    "   shallow copy:\n",
    "   \n",
    "                in the deep copy any changes made to a copy of object do not reflect the orignal object\n",
    "                it is used to copy the reference pointers just like it copy the value\n",
    "   deep copy:\n",
    "   \n",
    "               in the deep copy any changes made to a copy of object do  reflect the orignal object\n",
    "               it does not copy the reference pointers to the object\n",
    "     "
   ]
  },
  {
   "cell_type": "code",
   "execution_count": 21,
   "id": "1551c95c",
   "metadata": {},
   "outputs": [],
   "source": [
    "#deep copy:\n"
   ]
  },
  {
   "cell_type": "code",
   "execution_count": 22,
   "id": "4c4cb179",
   "metadata": {},
   "outputs": [],
   "source": [
    "import copy"
   ]
  },
  {
   "cell_type": "code",
   "execution_count": 29,
   "id": "75629771",
   "metadata": {},
   "outputs": [
    {
     "name": "stdout",
     "output_type": "stream",
     "text": [
      "[[1, 2], [3, 4]]\n"
     ]
    },
    {
     "data": {
      "text/plain": [
       "[[1, 2], [3, 4]]"
      ]
     },
     "execution_count": 29,
     "metadata": {},
     "output_type": "execute_result"
    }
   ],
   "source": [
    "list=[[1,2],[3,4]]\n",
    "print(list)\n",
    "cp=copy.deepcopy(list)\n",
    "cp[0][0]=10\n",
    "cp\n",
    "list\n"
   ]
  },
  {
   "cell_type": "code",
   "execution_count": 24,
   "id": "3bb1f3f7",
   "metadata": {},
   "outputs": [
    {
     "data": {
      "text/plain": [
       "[[1, 2], [3, 4]]"
      ]
     },
     "execution_count": 24,
     "metadata": {},
     "output_type": "execute_result"
    }
   ],
   "source": [
    "cp=copy.deepcopy(list)\n",
    "cp"
   ]
  },
  {
   "cell_type": "code",
   "execution_count": 25,
   "id": "fd1bf097",
   "metadata": {},
   "outputs": [
    {
     "data": {
      "text/plain": [
       "[[10, 2], [3, 4]]"
      ]
     },
     "execution_count": 25,
     "metadata": {},
     "output_type": "execute_result"
    }
   ],
   "source": [
    "cp[0][0]=10#change the object\n",
    "cp"
   ]
  },
  {
   "cell_type": "code",
   "execution_count": 26,
   "id": "11f50a54",
   "metadata": {},
   "outputs": [
    {
     "data": {
      "text/plain": [
       "[[1, 2], [3, 4]]"
      ]
     },
     "execution_count": 26,
     "metadata": {},
     "output_type": "execute_result"
    }
   ],
   "source": [
    "list#orignal object"
   ]
  },
  {
   "cell_type": "code",
   "execution_count": 31,
   "id": "589e4e70",
   "metadata": {},
   "outputs": [
    {
     "data": {
      "text/plain": [
       "[[1, 2], [3, 4]]"
      ]
     },
     "execution_count": 31,
     "metadata": {},
     "output_type": "execute_result"
    }
   ],
   "source": [
    "# shallow copy:\n",
    "list1=[[1,2],[3,4]]\n",
    "list1\n"
   ]
  },
  {
   "cell_type": "code",
   "execution_count": 32,
   "id": "bdae773c",
   "metadata": {},
   "outputs": [
    {
     "data": {
      "text/plain": [
       "[[1, 2], [3, 4]]"
      ]
     },
     "execution_count": 32,
     "metadata": {},
     "output_type": "execute_result"
    }
   ],
   "source": [
    "cp=copy.copy(list1)\n",
    "list1"
   ]
  },
  {
   "cell_type": "code",
   "execution_count": 39,
   "id": "bb4a2cce",
   "metadata": {},
   "outputs": [
    {
     "data": {
      "text/plain": [
       "[[10, 2], [3, 4]]"
      ]
     },
     "execution_count": 39,
     "metadata": {},
     "output_type": "execute_result"
    }
   ],
   "source": [
    "cp=copy.copy(list1)\n",
    "\n",
    "cp[0][0]=10\n",
    "cp"
   ]
  },
  {
   "cell_type": "code",
   "execution_count": 40,
   "id": "4a30d40c",
   "metadata": {},
   "outputs": [
    {
     "data": {
      "text/plain": [
       "[[10, 2], [3, 4]]"
      ]
     },
     "execution_count": 40,
     "metadata": {},
     "output_type": "execute_result"
    }
   ],
   "source": [
    "list1"
   ]
  },
  {
   "cell_type": "markdown",
   "id": "ab5ae547",
   "metadata": {},
   "source": [
    "# 25: What is the difference between xrange and range in Python?\n",
    "\n",
    "\n",
    "Ans:   \n",
    "\n",
    "     both generate a sequence of integers.\n",
    "     \n",
    "   key difference:\n",
    "   \n",
    "     xrange() is returns xrange generator objects\n",
    "     \n",
    "     range() is returns python list"
   ]
  },
  {
   "cell_type": "code",
   "execution_count": 42,
   "id": "8fa141bd",
   "metadata": {},
   "outputs": [
    {
     "name": "stdout",
     "output_type": "stream",
     "text": [
      "1\n",
      "3\n",
      "5\n",
      "7\n",
      "9\n"
     ]
    }
   ],
   "source": [
    "# range():\n",
    "\n",
    "a = range(1,10,2)\n",
    "for i in a:\n",
    "    print(i)"
   ]
  },
  {
   "cell_type": "raw",
   "id": "ac640b55",
   "metadata": {},
   "source": []
  },
  {
   "cell_type": "code",
   "execution_count": null,
   "id": "c471d33a",
   "metadata": {},
   "outputs": [],
   "source": [
    "\n"
   ]
  },
  {
   "cell_type": "markdown",
   "id": "36f91dc6",
   "metadata": {},
   "source": [
    "# 26: What is pickling and unpickling?\n",
    "\n",
    "\n",
    "Ans:\n",
    "\n",
    "\n",
    "Pickling:\n",
    "    \n",
    "      Pickling is the name of the serialization process in Python. \n",
    "      \n",
    "      Any python object can be serialized into a byte stream and dumped as a file in the memory.\n",
    "      \n",
    "      function is used pickle.dump().\n",
    "      \n",
    "Unpickling:\n",
    "\n",
    "       Unpickling is the complete inverse of pickling. \n",
    "       \n",
    "       Any python object can be deserialized into a byte stream and dumped as a file in the memory. \n",
    "       \n",
    "        function is used pickle.load().\n",
    "      "
   ]
  },
  {
   "cell_type": "markdown",
   "id": "54426790",
   "metadata": {},
   "source": [
    "# 27: What are generators in Python?\n",
    "\n",
    "\n",
    "Ans:  \n",
    "     \n",
    "\n",
    "    generator is a function which returns a sequence of value.\n",
    "   \n",
    "    we use the yeild statement to  returns the value from  function."
   ]
  },
  {
   "cell_type": "code",
   "execution_count": 54,
   "id": "324d1e60",
   "metadata": {},
   "outputs": [
    {
     "name": "stdout",
     "output_type": "stream",
     "text": [
      "<generator object dis at 0x000001CBAFD16140>\n",
      "<class 'generator'>\n"
     ]
    }
   ],
   "source": [
    "def dis(a,b):\n",
    "    yield a\n",
    "    yield b\n",
    "    \n",
    "obj=dis(10,20)\n",
    "print(obj)\n",
    "print(type(obj))"
   ]
  },
  {
   "cell_type": "markdown",
   "id": "6df11f50",
   "metadata": {},
   "source": [
    "# 28: What is PYTHONPATH in Python?\n",
    "\n",
    "\n",
    "Ans:\n",
    "\n",
    "    python path is an environmental variable that is used when we import a module.\n",
    "   \n",
    "    pythonpath is checked to see if the imported modules are present in various folders.\n",
    "   \n",
    "    pythonpath is used by interpreter to determine which module to load"
   ]
  },
  {
   "cell_type": "markdown",
   "id": "6f2779b8",
   "metadata": {},
   "source": [
    "# 29: What is the use of help() and dir() functions?\n",
    "\n",
    "\n",
    "Ans:\n",
    "\n",
    "help():\n",
    "\n",
    "    help() function in Python is used to display the documentation of modules, classes, functions, keywords, etc\n",
    "    \n",
    "dir():\n",
    "\n",
    "     dir() is a built-in function in Python that returns a list of the attributes and methods of any object."
   ]
  },
  {
   "cell_type": "code",
   "execution_count": 4,
   "id": "4503cfe2",
   "metadata": {},
   "outputs": [
    {
     "name": "stdout",
     "output_type": "stream",
     "text": [
      "['__add__', '__class__', '__class_getitem__', '__contains__', '__delattr__', '__delitem__', '__dir__', '__doc__', '__eq__', '__format__', '__ge__', '__getattribute__', '__getitem__', '__getstate__', '__gt__', '__hash__', '__iadd__', '__imul__', '__init__', '__init_subclass__', '__iter__', '__le__', '__len__', '__lt__', '__mul__', '__ne__', '__new__', '__reduce__', '__reduce_ex__', '__repr__', '__reversed__', '__rmul__', '__setattr__', '__setitem__', '__sizeof__', '__str__', '__subclasshook__', 'append', 'clear', 'copy', 'count', 'extend', 'index', 'insert', 'pop', 'remove', 'reverse', 'sort']\n"
     ]
    }
   ],
   "source": [
    "#dir()\n",
    "\n",
    "num = [12]\n",
    "print(dir(num))"
   ]
  },
  {
   "cell_type": "code",
   "execution_count": 12,
   "id": "ee9a8cb7",
   "metadata": {},
   "outputs": [
    {
     "name": "stdout",
     "output_type": "stream",
     "text": [
      "Help on built-in function print in module builtins:\n",
      "\n",
      "print(*args, sep=' ', end='\\n', file=None, flush=False)\n",
      "    Prints the values to a stream, or to sys.stdout by default.\n",
      "    \n",
      "    sep\n",
      "      string inserted between values, default a space.\n",
      "    end\n",
      "      string appended after the last value, default a newline.\n",
      "    file\n",
      "      a file-like object (stream); defaults to the current sys.stdout.\n",
      "    flush\n",
      "      whether to forcibly flush the stream.\n",
      "\n"
     ]
    }
   ],
   "source": [
    "#help()\n",
    "\n",
    "help(print)"
   ]
  },
  {
   "cell_type": "markdown",
   "id": "58a98c12",
   "metadata": {},
   "source": [
    " # 30: What is the difference between .py and .pyc files?\n",
    " \n",
    " Ans: \n",
    " \n",
    "    .py files contain the source code of a program. \n",
    "    \n",
    "    .pyc file contains the bytecode of a program. \n",
    "    \n",
    "    .pyc file contains encoded python bytecode.\n",
    "    \n",
    "    .pyc is not created for our main program file that we execute only for imported modules."
   ]
  },
  {
   "cell_type": "markdown",
   "id": "9484d19d",
   "metadata": {},
   "source": [
    "# 31. What is bytecode in python.\n",
    "\n",
    "Ans:\n",
    "    \n",
    "    Python compiles the source code to a set of instructions for a virtual machine.\n",
    "    \n",
    "    The Python interpreter is an implementation of that virtual machine. This intermediate format is called “bytecode”.\n",
    "    \n",
    "    \"Bytecode is a low-level representation of Python code that is platform-independent.\n",
    "    It is not binary code and cannot run directly on the targeted machine.\n",
    "    it is a set of instructions for the virtual machine, which is also called the Python Virtual Machine (PVM)\""
   ]
  },
  {
   "cell_type": "markdown",
   "id": "4dbcd790",
   "metadata": {},
   "source": [
    "# 32: How are arguments passed by value or by reference in python?\n",
    "\n",
    "Ans:\n",
    "    \n",
    "   Pass by value:\n",
    "   \n",
    "    Copy of the actual object is passed. \n",
    "    Changing the value of the copy of the object will not change the value of the original object.\n",
    "    \n",
    "  Pass by reference:\n",
    "  \n",
    "    Reference to the actual object is passed.\n",
    "    Changing the value of the new object will change the value of the original object."
   ]
  },
  {
   "cell_type": "code",
   "execution_count": 24,
   "id": "dab57207",
   "metadata": {},
   "outputs": [
    {
     "name": "stdout",
     "output_type": "stream",
     "text": [
      "20\n",
      "10\n"
     ]
    }
   ],
   "source": [
    "# pass by value:\n",
    "\n",
    "def hello(x):\n",
    "    x=20\n",
    "    print(x)\n",
    "    return \n",
    "a=10\n",
    "hello(a)\n",
    "print(a)"
   ]
  },
  {
   "cell_type": "code",
   "execution_count": 27,
   "id": "494f8d1c",
   "metadata": {},
   "outputs": [
    {
     "name": "stdout",
     "output_type": "stream",
     "text": [
      "[20, 2, 3]\n",
      "[20, 2, 3]\n"
     ]
    }
   ],
   "source": [
    "#pass by reference\n",
    "\n",
    "a=[1,2,3]\n",
    "def hello(x):\n",
    "    x[0]=20\n",
    "    print(x)\n",
    "    return \n",
    "hello(a)\n",
    "print(a)"
   ]
  },
  {
   "cell_type": "markdown",
   "id": "18855d0a",
   "metadata": {},
   "source": [
    "# 33: What are iterators in Python?\n",
    "\n",
    "Ans:\n",
    "    \n",
    "     python iterator is an object that is used to iterate over iterable objects like lists, tuples, dicts, and sets. \n",
    "     The Python iterators object is initialized using the iter() method. \n",
    "     It uses the next() method for iteration."
   ]
  },
  {
   "cell_type": "code",
   "execution_count": 32,
   "id": "0880fd39",
   "metadata": {},
   "outputs": [
    {
     "name": "stdout",
     "output_type": "stream",
     "text": [
      "banana\n",
      "apple\n",
      "graps\n"
     ]
    }
   ],
   "source": [
    "#example:\n",
    "\n",
    "fruit = (\"banana\",\"apple\",\"graps\")\n",
    "x = iter(fruit)\n",
    "print(next(x))\n",
    "print(next(x))\n",
    "print(next(x))\n"
   ]
  },
  {
   "cell_type": "markdown",
   "id": "3b8934e0",
   "metadata": {},
   "source": [
    "# 34: Explain how to delete a file in Python?\n",
    "\n",
    "\n",
    "\n",
    "\n",
    " "
   ]
  },
  {
   "cell_type": "code",
   "execution_count": 2,
   "id": "77ad3774",
   "metadata": {},
   "outputs": [
    {
     "ename": "FileNotFoundError",
     "evalue": "[WinError 2] The system cannot find the file specified: 'abc.txt'",
     "output_type": "error",
     "traceback": [
      "\u001b[1;31m---------------------------------------------------------------------------\u001b[0m",
      "\u001b[1;31mFileNotFoundError\u001b[0m                         Traceback (most recent call last)",
      "Cell \u001b[1;32mIn[2], line 2\u001b[0m\n\u001b[0;32m      1\u001b[0m \u001b[38;5;28;01mimport\u001b[39;00m \u001b[38;5;21;01mos\u001b[39;00m\n\u001b[1;32m----> 2\u001b[0m \u001b[43mos\u001b[49m\u001b[38;5;241;43m.\u001b[39;49m\u001b[43mremove\u001b[49m\u001b[43m(\u001b[49m\u001b[38;5;124;43m\"\u001b[39;49m\u001b[38;5;124;43mabc.txt\u001b[39;49m\u001b[38;5;124;43m\"\u001b[39;49m\u001b[43m)\u001b[49m\n\u001b[0;32m      3\u001b[0m \u001b[38;5;28mprint\u001b[39m(\u001b[38;5;124m\"\u001b[39m\u001b[38;5;124mremove file successfully\u001b[39m\u001b[38;5;124m\"\u001b[39m)\n",
      "\u001b[1;31mFileNotFoundError\u001b[0m: [WinError 2] The system cannot find the file specified: 'abc.txt'"
     ]
    }
   ],
   "source": [
    "import os\n",
    "os.remove(\"abc.txt\")\n",
    "print(\"remove file successfully\")"
   ]
  },
  {
   "cell_type": "code",
   "execution_count": 3,
   "id": "d95f44af",
   "metadata": {},
   "outputs": [
    {
     "data": {
      "text/plain": [
       "'C:\\\\Users\\\\jadav'"
      ]
     },
     "execution_count": 3,
     "metadata": {},
     "output_type": "execute_result"
    }
   ],
   "source": [
    "os.getcwd()"
   ]
  },
  {
   "cell_type": "code",
   "execution_count": 8,
   "id": "abf96311",
   "metadata": {},
   "outputs": [
    {
     "ename": "PermissionError",
     "evalue": "[WinError 5] Access is denied: 'lavina.txt'",
     "output_type": "error",
     "traceback": [
      "\u001b[1;31m---------------------------------------------------------------------------\u001b[0m",
      "\u001b[1;31mPermissionError\u001b[0m                           Traceback (most recent call last)",
      "Cell \u001b[1;32mIn[8], line 2\u001b[0m\n\u001b[0;32m      1\u001b[0m \u001b[38;5;28;01mimport\u001b[39;00m \u001b[38;5;21;01mos\u001b[39;00m\n\u001b[1;32m----> 2\u001b[0m \u001b[43mos\u001b[49m\u001b[38;5;241;43m.\u001b[39;49m\u001b[43mremove\u001b[49m\u001b[43m(\u001b[49m\u001b[38;5;124;43m\"\u001b[39;49m\u001b[38;5;124;43mlavina.txt\u001b[39;49m\u001b[38;5;124;43m\"\u001b[39;49m\u001b[43m)\u001b[49m\n\u001b[0;32m      3\u001b[0m \u001b[38;5;28mprint\u001b[39m(\u001b[38;5;124m\"\u001b[39m\u001b[38;5;124mremove successfully\u001b[39m\u001b[38;5;124m\"\u001b[39m)\n",
      "\u001b[1;31mPermissionError\u001b[0m: [WinError 5] Access is denied: 'lavina.txt'"
     ]
    }
   ],
   "source": [
    "import os\n",
    "os.remove(\"lavina.txt\")\n",
    "print(\"remove successfully\")"
   ]
  },
  {
   "cell_type": "markdown",
   "id": "992aa6ec",
   "metadata": {},
   "source": [
    "# 35: What does *args and **kwargs mean?\n",
    "\n",
    "Ans:\n",
    "\n",
    "*args:\n",
    "\n",
    "     args is a special syntax used in the function definition to pass variable-length arguments.\n",
    "     \n",
    "     it is keyword argument\n",
    "     \n",
    "**kwargs:\n",
    "\n",
    "\n",
    "    *kwargs is a special syntax used in the function definition to pass variable-length keyworded arguments.\n",
    "    \n",
    "    Keyworded argument means a variable that has a name when passed to a function.\n",
    "    \n",
    "    It is actually a dictionary of the variable names and its value.\n",
    "    \n",
    "    If you do not know how many keyword arguments that will be passed into your function, add two star: ** before the parameter     name in the function."
   ]
  },
  {
   "cell_type": "markdown",
   "id": "f32210f4",
   "metadata": {},
   "source": [
    "# 36: What are negative indexes and why are they used\n",
    "\n",
    "\n",
    "Ans:\n",
    "     \n",
    "     Negative indexes are the indexes from the end of the list or tuple or string.\n",
    "     \n",
    "     Arr[-1] means the last element of array Arr[]"
   ]
  },
  {
   "cell_type": "code",
   "execution_count": 37,
   "id": "90713c09",
   "metadata": {},
   "outputs": [
    {
     "name": "stdout",
     "output_type": "stream",
     "text": [
      "4\n"
     ]
    }
   ],
   "source": [
    "list=[2,3,4]\n",
    "print(list[-1])"
   ]
  },
  {
   "cell_type": "code",
   "execution_count": 38,
   "id": "3efe8045",
   "metadata": {},
   "outputs": [
    {
     "name": "stdout",
     "output_type": "stream",
     "text": [
      "5\n"
     ]
    }
   ],
   "source": [
    "tup=(2,3,4,5)\n",
    "print(tup[-1])"
   ]
  },
  {
   "cell_type": "code",
   "execution_count": 39,
   "id": "99d1dbdf",
   "metadata": {},
   "outputs": [
    {
     "name": "stdout",
     "output_type": "stream",
     "text": [
      "p\n"
     ]
    }
   ],
   "source": [
    "str = \"Sandip\"\n",
    "print(str[-1])"
   ]
  },
  {
   "cell_type": "markdown",
   "id": "7bb48466",
   "metadata": {},
   "source": [
    "# 37: what is the difference between \"is\" and \"==\"in python.\n",
    "\n",
    "Ans:\n",
    "\n",
    "   ## \"==\"\n",
    "   \n",
    "    it is used for check value equality.\n",
    "    if the compare of the two objects and return the true,so they are equal and false so they are not equal"
   ]
  },
  {
   "cell_type": "code",
   "execution_count": 11,
   "id": "c9a3e474",
   "metadata": {},
   "outputs": [
    {
     "name": "stdout",
     "output_type": "stream",
     "text": [
      "True\n"
     ]
    }
   ],
   "source": [
    "#example\n",
    "a =10\n",
    "b =10\n",
    "\n",
    "print(a==b)"
   ]
  },
  {
   "cell_type": "markdown",
   "id": "632eb818",
   "metadata": {},
   "source": [
    "# \"Is\"\n",
    "\n",
    "Ans:\n",
    "\n",
    "     it is used for the check identity.\n",
    "     if return true, if both variable are points of same object otherwise false\n",
    "     "
   ]
  },
  {
   "cell_type": "code",
   "execution_count": 12,
   "id": "41df9e61",
   "metadata": {},
   "outputs": [
    {
     "name": "stdout",
     "output_type": "stream",
     "text": [
      "True\n"
     ]
    }
   ],
   "source": [
    "list1=[1,2,3,4,5]\n",
    "list2=list1\n",
    "print(list1 is list2)"
   ]
  },
  {
   "cell_type": "code",
   "execution_count": 13,
   "id": "9e2dc2d7",
   "metadata": {},
   "outputs": [
    {
     "name": "stdout",
     "output_type": "stream",
     "text": [
      "False\n"
     ]
    }
   ],
   "source": [
    "list1=[1,2,3,4,5]\n",
    "list=[6,7,8,9,10]\n",
    "\n",
    "print(list1 is list2)"
   ]
  },
  {
   "cell_type": "markdown",
   "id": "d6c89c03",
   "metadata": {},
   "source": [
    "# 38: what is the logical operators in python\n",
    "\n",
    "\n",
    "Ans:\n",
    "    \n",
    "   AND\n",
    "   \n",
    "   \n",
    "      return True if both statements are True\n",
    "      \n",
    "   OR\n",
    "   \n",
    "     return True if one of the statement are True\n",
    "     \n",
    "     \n",
    "   NOT\n",
    "   \n",
    "     it is used for reverse statements such like statement is true so return false and statement are false so it return true"
   ]
  },
  {
   "cell_type": "code",
   "execution_count": 21,
   "id": "898322ee",
   "metadata": {},
   "outputs": [
    {
     "name": "stdout",
     "output_type": "stream",
     "text": [
      "True\n"
     ]
    }
   ],
   "source": [
    "# And\n",
    "\n",
    "a = 10\n",
    "\n",
    "print(a < 11 and a > 5)\n"
   ]
  },
  {
   "cell_type": "code",
   "execution_count": 24,
   "id": "59e23775",
   "metadata": {},
   "outputs": [
    {
     "name": "stdout",
     "output_type": "stream",
     "text": [
      "True\n"
     ]
    }
   ],
   "source": [
    "#or\n",
    "\n",
    "a=30\n",
    "\n",
    "print(a>10 or a>40)"
   ]
  },
  {
   "cell_type": "code",
   "execution_count": 27,
   "id": "567d6c1d",
   "metadata": {},
   "outputs": [
    {
     "name": "stdout",
     "output_type": "stream",
     "text": [
      "False\n"
     ]
    }
   ],
   "source": [
    "#not\n",
    "\n",
    "a=True\n",
    "print(not a)"
   ]
  },
  {
   "cell_type": "markdown",
   "id": "a759b382",
   "metadata": {},
   "source": [
    " # 39:what is the membership operators in python\n",
    " \n",
    " Ans:\n",
    " \n",
    " ## in\n",
    " \n",
    "    if the sequence of the value is present in the object its used in operator\n",
    "    \n",
    "  ## not in\n",
    "  \n",
    "    if the sequence of the value is not present in the object its used not in operator"
   ]
  },
  {
   "cell_type": "code",
   "execution_count": 32,
   "id": "cb5bc03d",
   "metadata": {},
   "outputs": [
    {
     "name": "stdout",
     "output_type": "stream",
     "text": [
      "True\n"
     ]
    }
   ],
   "source": [
    "#in\n",
    "\n",
    "list1=[1,2,3,3,4,5]\n",
    "print(5 in list)"
   ]
  },
  {
   "cell_type": "code",
   "execution_count": 33,
   "id": "f628c2d4",
   "metadata": {},
   "outputs": [
    {
     "name": "stdout",
     "output_type": "stream",
     "text": [
      "False\n"
     ]
    }
   ],
   "source": [
    "#not in\n",
    "list1=[1,2,3,3,4,5]\n",
    "print(6 in list)"
   ]
  },
  {
   "cell_type": "markdown",
   "id": "331c9beb",
   "metadata": {},
   "source": [
    "# 40: what is the identity operators in python\n",
    "\n",
    "Ans:\n",
    "\n",
    "   ## is\n",
    "   \n",
    "     return True if the both variables are points to the same object\n",
    "   \n",
    "  ## is not\n",
    "   \n",
    "    return True if the both variables are not  points to the same object"
   ]
  },
  {
   "cell_type": "code",
   "execution_count": 46,
   "id": "ac38ad5b",
   "metadata": {},
   "outputs": [
    {
     "name": "stdout",
     "output_type": "stream",
     "text": [
      "True\n"
     ]
    }
   ],
   "source": [
    "# is\n",
    "\n",
    "a=[1,2,3,4]\n",
    "a=b\n",
    "print(a is b)"
   ]
  },
  {
   "cell_type": "code",
   "execution_count": 4,
   "id": "a2ce62ae",
   "metadata": {},
   "outputs": [
    {
     "name": "stdout",
     "output_type": "stream",
     "text": [
      "True\n"
     ]
    }
   ],
   "source": [
    "# is not\n",
    "\n",
    "a=[1,2,3,4]\n",
    "b=[1,2,3,4]\n",
    "\n",
    "print(a is not  b)"
   ]
  },
  {
   "cell_type": "markdown",
   "id": "329fc950",
   "metadata": {},
   "source": [
    "## Rules for Python variables:\n",
    "    A Python variable name must start with a letter or the underscore character.\n",
    "    A Python variable name cannot start with a number.\n",
    "    A Python variable name can only contain alpha-numeric characters and underscores (A-z, 0-9, and _ ).\n",
    "    Variable in Python names are case-sensitive (name, Name, and NAME are three different variables).\n",
    "    The reserved words(keywords) in Python cannot be used to name the variable in Python."
   ]
  },
  {
   "cell_type": "markdown",
   "id": "e40f4261",
   "metadata": {},
   "source": [
    "  ## data type:\n",
    "    data type refers to the type of value a variable has and what type of mathematical, relational or logical operations can be applied without causing an error. For example, many programming languages use the data type string to classify text, integer to identify whole numbers and floating point to designate numbers with decimal points."
   ]
  },
  {
   "cell_type": "code",
   "execution_count": null,
   "id": "15f8446b",
   "metadata": {},
   "outputs": [],
   "source": []
  }
 ],
 "metadata": {
  "kernelspec": {
   "display_name": "Python 3 (ipykernel)",
   "language": "python",
   "name": "python3"
  },
  "language_info": {
   "codemirror_mode": {
    "name": "ipython",
    "version": 3
   },
   "file_extension": ".py",
   "mimetype": "text/x-python",
   "name": "python",
   "nbconvert_exporter": "python",
   "pygments_lexer": "ipython3",
   "version": "3.11.5"
  }
 },
 "nbformat": 4,
 "nbformat_minor": 5
}
